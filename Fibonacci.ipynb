{
 "cells": [
  {
   "cell_type": "code",
   "execution_count": 1,
   "metadata": {
    "collapsed": true
   },
   "outputs": [],
   "source": [
    "import tensorflow as tf\n",
    "import numpy as np"
   ]
  },
  {
   "cell_type": "code",
   "execution_count": 2,
   "metadata": {
    "collapsed": true
   },
   "outputs": [],
   "source": [
    "h1 = tf.placeholder(\"float\", 1)\n",
    "h2 = tf.placeholder(\"float\", 1)"
   ]
  },
  {
   "cell_type": "code",
   "execution_count": 3,
   "metadata": {
    "collapsed": true
   },
   "outputs": [],
   "source": [
    "def step(h_tm1, h_tm2):\n",
    "    h_t = h_tm1 + h_tm2\n",
    "    return h_t, h_tm1"
   ]
  },
  {
   "cell_type": "code",
   "execution_count": 4,
   "metadata": {
    "collapsed": true
   },
   "outputs": [],
   "source": [
    "outputs = []\n",
    "h_tm1 = h1\n",
    "h_tm2 = h2\n",
    "for i in range(10):\n",
    "    h_tm1, h_tm2 = step(h_tm1, h_tm2)\n",
    "    outputs.append(h_tm1)"
   ]
  },
  {
   "cell_type": "code",
   "execution_count": 4,
   "metadata": {
    "collapsed": false
   },
   "outputs": [],
   "source": [
    "sess = tf.Session()"
   ]
  },
  {
   "cell_type": "code",
   "execution_count": 6,
   "metadata": {
    "collapsed": false
   },
   "outputs": [],
   "source": [
    "r = sess.run(outputs, feed_dict=({h2:np.zeros(1), h1:np.ones(1)}))"
   ]
  },
  {
   "cell_type": "code",
   "execution_count": 7,
   "metadata": {
    "collapsed": false
   },
   "outputs": [
    {
     "data": {
      "text/plain": [
       "[array([ 1.], dtype=float32),\n",
       " array([ 2.], dtype=float32),\n",
       " array([ 3.], dtype=float32),\n",
       " array([ 5.], dtype=float32),\n",
       " array([ 8.], dtype=float32),\n",
       " array([ 13.], dtype=float32),\n",
       " array([ 21.], dtype=float32),\n",
       " array([ 34.], dtype=float32),\n",
       " array([ 55.], dtype=float32),\n",
       " array([ 89.], dtype=float32)]"
      ]
     },
     "execution_count": 7,
     "metadata": {},
     "output_type": "execute_result"
    }
   ],
   "source": [
    "r"
   ]
  },
  {
   "cell_type": "code",
   "execution_count": null,
   "metadata": {
    "collapsed": true
   },
   "outputs": [],
   "source": [
    "\"\"\"\n",
    "We can write our own \"scan\" for tensorflow so that we have a unifying API.\n",
    "\n",
    "For LSTM and GRU, TF already provides a fast implementation\n",
    "\"\"\""
   ]
  },
  {
   "cell_type": "code",
   "execution_count": 21,
   "metadata": {
    "collapsed": false
   },
   "outputs": [],
   "source": [
    "def scan(step, sequences=None, outputs_info=None, non_sequences=None, n_steps=None):\n",
    "    #if sequences is None:\n",
    "    #    assert n_steps is not None\n",
    "    \n",
    "    leng = n_steps\n",
    "    outputs = outputs_info\n",
    "    results = [[] for i in outputs_info]\n",
    "    for i in range(leng):\n",
    "        seq = [s[i] for s in sequences]\n",
    "        nseq = [n[i] for n in non_sequences]\n",
    "        input_list = seq + outputs + nseq\n",
    "        outputs = list(step(*input_list))\n",
    "        for i, o in enumerate(outputs):\n",
    "            results[i].append(outputs[i])\n",
    "    results = [tf.concat(0, r) for r in results]\n",
    "    return results"
   ]
  },
  {
   "cell_type": "code",
   "execution_count": 22,
   "metadata": {
    "collapsed": false
   },
   "outputs": [],
   "source": [
    "outputs = scan(step, sequences=[], outputs_info=[h1, h2], non_sequences=[], n_steps=10)"
   ]
  },
  {
   "cell_type": "code",
   "execution_count": 23,
   "metadata": {
    "collapsed": false
   },
   "outputs": [],
   "source": [
    "r = sess.run(outputs, feed_dict=({h2:np.zeros(1), h1:np.ones(1)}))"
   ]
  },
  {
   "cell_type": "code",
   "execution_count": 24,
   "metadata": {
    "collapsed": false
   },
   "outputs": [
    {
     "data": {
      "text/plain": [
       "[array([  1.,   2.,   3.,   5.,   8.,  13.,  21.,  34.,  55.,  89.], dtype=float32),\n",
       " array([  1.,   1.,   2.,   3.,   5.,   8.,  13.,  21.,  34.,  55.], dtype=float32)]"
      ]
     },
     "execution_count": 24,
     "metadata": {},
     "output_type": "execute_result"
    }
   ],
   "source": [
    "r"
   ]
  }
 ],
 "metadata": {
  "kernelspec": {
   "display_name": "Python 2",
   "language": "python",
   "name": "python2"
  },
  "language_info": {
   "codemirror_mode": {
    "name": "ipython",
    "version": 2
   },
   "file_extension": ".py",
   "mimetype": "text/x-python",
   "name": "python",
   "nbconvert_exporter": "python",
   "pygments_lexer": "ipython2",
   "version": "2.7.10"
  }
 },
 "nbformat": 4,
 "nbformat_minor": 0
}
